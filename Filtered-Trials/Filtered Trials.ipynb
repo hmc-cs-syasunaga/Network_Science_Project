{
 "cells": [
  {
   "cell_type": "code",
   "execution_count": 17,
   "metadata": {},
   "outputs": [],
   "source": [
    "import pandas as pd\n",
    "\n",
    "w = pd.io.excel.read_excel('participant_ratings_raw.xlsx',header=None)\n",
    "trials = w.as_matrix()\n"
   ]
  },
  {
   "cell_type": "code",
   "execution_count": 18,
   "metadata": {},
   "outputs": [
    {
     "data": {
      "text/plain": [
       "array([  1.00000000e+00,   1.00000000e+00,   5.00000000e+00,\n",
       "         1.69591800e+06,   6.96000000e+00,   3.92000000e+00,\n",
       "         7.19000000e+00,   6.05000000e+00,   4.00000000e+00])"
      ]
     },
     "execution_count": 18,
     "metadata": {},
     "output_type": "execute_result"
    }
   ],
   "source": [
    "trials[0]"
   ]
  },
  {
   "cell_type": "code",
   "execution_count": 19,
   "metadata": {},
   "outputs": [
    {
     "name": "stdout",
     "output_type": "stream",
     "text": [
      "1280\n"
     ]
    }
   ],
   "source": [
    "Valence_Lo=[]\n",
    "Valence_Hi=[]\n",
    "Arousal_Lo=[]\n",
    "Arousal_Hi=[]\n",
    "\n",
    "count = 0\n",
    "valence = 0\n",
    "arousal = 0.0\n",
    "for row in range(1280):\n",
    "    id = row\n",
    "    count+=1\n",
    "    # valence\n",
    "    if trials[row][4] <= 3.9:\n",
    "        Valence_Lo.append(id)\n",
    "    if trials[row][4] >= 7.0:\n",
    "        Valence_Hi.append(id)\n",
    "    # arousal\n",
    "    if trials[row][5] <= 3.8:\n",
    "        Arousal_Lo.append(id)\n",
    "    if trials[row][5] >= 6.9:        \n",
    "        Arousal_Hi.append(id)\n",
    "print count"
   ]
  },
  {
   "cell_type": "code",
   "execution_count": 20,
   "metadata": {
    "scrolled": true
   },
   "outputs": [
    {
     "name": "stdout",
     "output_type": "stream",
     "text": [
      "[5, 7, 8, 9, 11, 12, 14, 15, 16, 17, 20, 21, 22, 25, 26, 29, 32, 33, 42, 44, 45, 46, 49, 53, 64, 67, 70, 82, 100, 104, 116, 118, 121, 124, 125, 128, 130, 136, 139, 140, 141, 142, 143, 144, 146, 148, 149, 150, 155, 156, 157, 159, 162, 168, 171, 175, 183, 189, 191, 198, 199, 200, 217, 219, 227, 242, 246, 251, 255, 265, 268, 275, 278, 279, 284, 287, 296, 297, 298, 299, 315, 318, 325, 329, 344, 345, 352, 353, 356, 359, 364, 371, 372, 374, 375, 380, 383, 388, 397, 398, 399, 400, 401, 405, 406, 407, 413, 417, 422, 427, 429, 436, 442, 444, 446, 448, 453, 455, 457, 458, 459, 471, 472, 474, 476, 478, 479, 480, 489, 490, 492, 493, 498, 501, 505, 507, 512, 517, 518, 521, 522, 523, 532, 536, 538, 539, 540, 544, 545, 548, 549, 550, 554, 555, 556, 557, 564, 568, 577, 580, 582, 585, 588, 591, 592, 598, 600, 607, 608, 612, 613, 614, 617, 618, 619, 620, 621, 623, 624, 627, 629, 632, 634, 635, 637, 639, 650, 653, 660, 665, 667, 677, 678, 679, 705, 716, 719, 720, 722, 726, 730, 732, 733, 736, 740, 744, 748, 749, 758, 767, 778, 781, 783, 785, 789, 791, 807, 810, 818, 827, 829, 831, 835, 837, 841, 844, 846, 847, 851, 853, 860, 861, 865, 872, 873, 874, 876, 878, 879, 881, 896, 897, 898, 906, 922, 924, 927, 930, 932, 938, 942, 947, 949, 951, 952, 960, 963, 967, 969, 974, 975, 979, 980, 982, 983, 987, 991, 992, 993, 998, 1000, 1002, 1005, 1006, 1013, 1014, 1015, 1021, 1023, 1027, 1030, 1035, 1042, 1054, 1063, 1068, 1070, 1084, 1086, 1090, 1091, 1096, 1100, 1103, 1106, 1111, 1113, 1116, 1118, 1119, 1121, 1134, 1135, 1138, 1139, 1142, 1144, 1147, 1150, 1152, 1155, 1156, 1165, 1168, 1169, 1199, 1202, 1211, 1212, 1215, 1216, 1218, 1235, 1241, 1249, 1252, 1255, 1261, 1270, 1274]\n"
     ]
    }
   ],
   "source": [
    "print Valence_Lo\n",
    "# print Valence_Hi\n",
    "# print Arousal_Lo\n",
    "# print Arousal_Hi"
   ]
  },
  {
   "cell_type": "code",
   "execution_count": 21,
   "metadata": {},
   "outputs": [
    {
     "name": "stdout",
     "output_type": "stream",
     "text": [
      "330\n",
      "373\n",
      "325\n",
      "330\n"
     ]
    }
   ],
   "source": [
    "print len(Valence_Lo)\n",
    "print len(Valence_Hi)\n",
    "print len(Arousal_Lo)\n",
    "print len(Arousal_Hi)"
   ]
  },
  {
   "cell_type": "code",
   "execution_count": null,
   "metadata": {
    "collapsed": true
   },
   "outputs": [],
   "source": []
  }
 ],
 "metadata": {
  "kernelspec": {
   "display_name": "Python 2",
   "language": "python",
   "name": "python2"
  }
 },
 "nbformat": 4,
 "nbformat_minor": 2
}
